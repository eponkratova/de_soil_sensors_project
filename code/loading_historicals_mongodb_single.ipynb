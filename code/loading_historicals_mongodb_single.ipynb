{
 "cells": [
  {
   "cell_type": "code",
   "execution_count": null,
   "metadata": {},
   "outputs": [],
   "source": [
    "#installing libraries\n",
    "!pip install netCDF4\n",
    "!pip install pymongo\n",
    "!pip install pymongo[srv]\n",
    "!pip install dnspython==2.0.0"
   ]
  },
  {
   "cell_type": "code",
   "execution_count": 23,
   "metadata": {},
   "outputs": [],
   "source": [
    "#reading libraries\n",
    "import netCDF4 as nc\n",
    "import pandas as pd\n",
    "import numpy as np\n",
    "from os import listdir\n",
    "from os.path import join\n",
    "import os\n",
    "import pymongo\n",
    "from pymongo import MongoClient\n",
    "import netcdftime\n",
    "from netCDF4 import Dataset\n",
    "from datetime import datetime\n",
    "import json"
   ]
  },
  {
   "cell_type": "code",
   "execution_count": 3,
   "metadata": {},
   "outputs": [],
   "source": [
    "#reading the file to explore the structure\n",
    "precip_nc_file = 'C:/Users/katep/Desktop/New folder/SoilSCAPE_1339/data/soil_temp_20min_NewHoganLakeS_CA_n503.nc'\n",
    "ncs = nc.Dataset(precip_nc_file, mode='r')\n",
    "#ncs.variables.keys()"
   ]
  },
  {
   "cell_type": "code",
   "execution_count": 4,
   "metadata": {},
   "outputs": [
    {
     "name": "stderr",
     "output_type": "stream",
     "text": [
      "C:\\Users\\katep\\Miniconda3\\envs\\cy_example\\lib\\site-packages\\ipykernel_launcher.py:11: DeprecationWarning: tostring() is deprecated. Use tobytes() instead.\n",
      "  # This is added back by InteractiveShellApp.init_path()\n",
      "C:\\Users\\katep\\Miniconda3\\envs\\cy_example\\lib\\site-packages\\ipykernel_launcher.py:12: DeprecationWarning: tostring() is deprecated. Use tobytes() instead.\n",
      "  if sys.path[0] == '':\n"
     ]
    }
   ],
   "source": [
    "#loading data to a dataframe\n",
    "def loading_to_dataframe(path):\n",
    "    df_moist = []\n",
    "    for file in listdir(path):  #looping throught the files and selecting only those failes that have the moisture data\n",
    "        if \"_moist\" in file:\n",
    "            in_nc = nc.Dataset(path+file)\n",
    "            lat = in_nc.variables['lat'][:] # read latitutde variable\n",
    "            long = in_nc.variables['lon'][:] # read longitude variable\n",
    "            soil_moisture = in_nc.variables['soil_moisture'][:] # read soil moisture variable\n",
    "            time = in_nc.variables['time'][:] # read time variable\n",
    "            time_unit = in_nc.variables[\"time\"].getncattr('units') # first read the 'units' attributes from the variable time\n",
    "            time_cal = in_nc.variables[\"time\"].getncattr('calendar') # read calendar type\n",
    "            local_time = nc.num2date(time, units = time_unit, calendar = time_cal)      \n",
    "            depth = in_nc.variables['depth'][:] # read depth variable\n",
    "            physicalid = in_nc.variables['physicalid'][:] # read physicalid variable\n",
    "            moisture_df = pd.DataFrame(soil_moisture, columns = depth, index = local_time.tolist()) # read into pandas dataframe\n",
    "            moisture_df['lat'] = lat \n",
    "            moisture_df['long'] = long \n",
    "            moisture_df['physicalid'] = physicalid \n",
    "            moisture_df['file'] = file\n",
    "            df_moist.append(moisture_df)\n",
    "    moist_joined = pd.concat(df_moist, axis = 0)\n",
    "    moist_joined.reset_index(inplace=True) \n",
    "    moist_joined.rename(columns={\"index\": \"dtime\"}, inplace=True) #renaming the index col, otherwise it would mess the datetime manipulation\n",
    "    moist_joined = moist_joined.fillna(\"\")\n",
    "    return moist_joined\n",
    "ds = loading_to_dataframe('C:/Users/katep/Desktop/New folder/SoilSCAPE_1339/data/subsets/')\n",
    "ds.columns = [str(col) + '_x' for col in ds.columns]"
   ]
  },
  {
   "cell_type": "code",
   "execution_count": 24,
   "metadata": {},
   "outputs": [],
   "source": [
    "#connecting mongdb atlas cluster\n",
    "client = pymongo.MongoClient(\"mongodb://\")\n",
    "db = client['soildatabase']\n",
    "collection = db['humidity_single']"
   ]
  },
  {
   "cell_type": "code",
   "execution_count": 6,
   "metadata": {},
   "outputs": [
    {
     "data": {
      "text/plain": [
       "<pymongo.results.InsertManyResult at 0x1bc48259e88>"
      ]
     },
     "execution_count": 6,
     "metadata": {},
     "output_type": "execute_result"
    }
   ],
   "source": [
    "#convert dataframe to dictionary and load to mongodb\n",
    "data_dict = ds.to_dict(\"records\")\n",
    "collection.insert_many(data_dict)"
   ]
  },
  {
   "cell_type": "code",
   "execution_count": 44,
   "metadata": {},
   "outputs": [
    {
     "data": {
      "text/plain": [
       "<pymongo.results.UpdateResult at 0x1c6dfcfeb48>"
      ]
     },
     "execution_count": 44,
     "metadata": {},
     "output_type": "execute_result"
    }
   ],
   "source": [
    "  #find_one_and_update\n",
    "db.humidity_single.update_many( {},[{'$set': {\"geoloc\": {\n",
    "                                \"type\": \"Point\",\n",
    "                                \"coordinates\": [ \"$long_x\",\"$lat_x\"]\n",
    "                            }}\n",
    "                        }]\n",
    ")\n"
   ]
  },
  {
   "cell_type": "code",
   "execution_count": 42,
   "metadata": {},
   "outputs": [
    {
     "name": "stderr",
     "output_type": "stream",
     "text": [
      "C:\\Users\\katep\\Miniconda3\\envs\\cy_example\\lib\\site-packages\\ipykernel_launcher.py:1: DeprecationWarning: update is deprecated. Use replace_one, update_one or update_many instead.\n",
      "  \"\"\"Entry point for launching an IPython kernel.\n"
     ]
    },
    {
     "data": {
      "text/plain": [
       "{'n': 26190,\n",
       " 'nModified': 1,\n",
       " 'opTime': {'ts': Timestamp(1613136934, 1), 't': 19},\n",
       " 'electionId': ObjectId('7fffffff0000000000000013'),\n",
       " 'ok': 1.0,\n",
       " '$clusterTime': {'clusterTime': Timestamp(1613136934, 1),\n",
       "  'signature': {'hash': b'D\\xd7?\\x12\\x12\\xfe\\xcb\\x07\\x15a\\x9cp*)\\xc57x\\xeda\\xb5',\n",
       "   'keyId': 6879312516015456260}},\n",
       " 'operationTime': Timestamp(1613136934, 1),\n",
       " 'updatedExisting': True}"
      ]
     },
     "execution_count": 42,
     "metadata": {},
     "output_type": "execute_result"
    }
   ],
   "source": [
    "db.humidity_single.update({}, {'$unset': {\"geoloc\": 1}},multi = True)"
   ]
  }
 ],
 "metadata": {
  "kernelspec": {
   "display_name": "Python 3",
   "language": "python",
   "name": "python3"
  },
  "language_info": {
   "codemirror_mode": {
    "name": "ipython",
    "version": 3
   },
   "file_extension": ".py",
   "mimetype": "text/x-python",
   "name": "python",
   "nbconvert_exporter": "python",
   "pygments_lexer": "ipython3",
   "version": "3.7.9"
  }
 },
 "nbformat": 4,
 "nbformat_minor": 4
}
